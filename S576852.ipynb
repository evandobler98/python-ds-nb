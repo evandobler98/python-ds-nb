{
 "cells": [
  {
   "cell_type": "markdown",
   "metadata": {},
   "source": [
    "## **Name:** Evan Dobler"
   ]
  },
  {
   "cell_type": "code",
   "execution_count": 1,
   "metadata": {},
   "outputs": [
    {
     "name": "stdout",
     "output_type": "stream",
     "text": [
      "*      *\n",
      "**    **\n",
      "***  ***\n",
      "********\n"
     ]
    }
   ],
   "source": [
    "# Set the number of rows for the pattern\n",
    "rows = 4\n",
    "\n",
    "# Generate the pattern\n",
    "for i in range(1, rows + 1):\n",
    "    # Left stars\n",
    "    left_stars = '*' * i\n",
    "    \n",
    "    # Spaces in between\n",
    "    spaces = ' ' * (2 * (rows - i))\n",
    "    \n",
    "    # Right stars\n",
    "    right_stars = '*' * i\n",
    "    \n",
    "    # Print the row of the pattern\n",
    "    print(left_stars + spaces + right_stars)\n"
   ]
  }
 ],
 "metadata": {
  "kernelspec": {
   "display_name": "Python 3",
   "language": "python",
   "name": "python3"
  },
  "language_info": {
   "codemirror_mode": {
    "name": "ipython",
    "version": 3
   },
   "file_extension": ".py",
   "mimetype": "text/x-python",
   "name": "python",
   "nbconvert_exporter": "python",
   "pygments_lexer": "ipython3",
   "version": "3.12.5"
  }
 },
 "nbformat": 4,
 "nbformat_minor": 2
}
